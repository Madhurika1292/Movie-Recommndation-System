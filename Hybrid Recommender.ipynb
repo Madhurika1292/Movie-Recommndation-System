{
 "cells": [
  {
   "cell_type": "code",
   "execution_count": 1,
   "metadata": {
    "id": "RlDdsF8BSYCF"
   },
   "outputs": [],
   "source": [
    "import numpy as np\n",
    "import pandas as pd\n",
    "#Import or compute the cosine_sim matrix\n",
    "cosine_sim = pd.read_csv('cosine_sim_matrix_max.csv')"
   ]
  },
  {
   "cell_type": "code",
   "execution_count": 2,
   "metadata": {
    "id": "UhEurJm8YbCz"
   },
   "outputs": [],
   "source": [
    "#Import or compute the cosine sim mapping matrix\n",
    "cosine_sim_map = pd.read_csv('cosine_sim_map_max.csv', header=None)\n",
    "\n",
    "#Convert cosine_sim_map into a Pandas Series\n",
    "cosine_sim_map = cosine_sim_map.set_index(0)\n",
    "cosine_sim_map = cosine_sim_map[1]"
   ]
  },
  {
   "cell_type": "code",
   "execution_count": 3,
   "metadata": {
    "colab": {
     "base_uri": "https://localhost:8080/"
    },
    "id": "S8lt7ptoZWNs",
    "outputId": "c4291c5e-746e-44ed-8d48-a760d53ac375"
   },
   "outputs": [
    {
     "name": "stdout",
     "output_type": "stream",
     "text": [
      "Evaluating RMSE, MAE of algorithm SVD on 5 split(s).\n",
      "\n",
      "                  Fold 1  Fold 2  Fold 3  Fold 4  Fold 5  Mean    Std     \n",
      "RMSE (testset)    0.8980  0.8944  0.8928  0.9033  0.8928  0.8963  0.0040  \n",
      "MAE (testset)     0.6906  0.6897  0.6857  0.6971  0.6865  0.6899  0.0040  \n",
      "Fit time          4.29    4.22    4.31    4.21    4.20    4.25    0.04    \n",
      "Test time         0.11    0.16    0.11    0.11    0.11    0.12    0.02    \n"
     ]
    },
    {
     "data": {
      "text/plain": [
       "{'test_rmse': array([0.89798986, 0.89438948, 0.89278268, 0.90331454, 0.89284369]),\n",
       " 'test_mae': array([0.69058353, 0.68965517, 0.68573921, 0.69708716, 0.68646214]),\n",
       " 'fit_time': (4.287456035614014,\n",
       "  4.2207252979278564,\n",
       "  4.310371160507202,\n",
       "  4.214818954467773,\n",
       "  4.198396921157837),\n",
       " 'test_time': (0.10672187805175781,\n",
       "  0.15880107879638672,\n",
       "  0.10531401634216309,\n",
       "  0.10645198822021484,\n",
       "  0.10720515251159668)}"
      ]
     },
     "execution_count": 3,
     "metadata": {},
     "output_type": "execute_result"
    }
   ],
   "source": [
    "#Build the SVD based Collaborative filter\n",
    "import surprise\n",
    "from surprise import SVD\n",
    "from surprise import Dataset\n",
    "from surprise.model_selection import cross_validate\n",
    "reader = surprise.Reader()\n",
    "ratings = pd.read_csv('ratings_small.csv')\n",
    "data = Dataset.load_from_df(ratings[['userId', 'movieId', 'rating']], reader)\n",
    "# Use the famous SVD algorithm.\n",
    "svd = SVD()\n",
    "# Run 5-fold cross-validation and print results.\n",
    "cross_validate(svd, data, measures=['RMSE', 'MAE'], cv=5, verbose=True)"
   ]
  },
  {
   "cell_type": "code",
   "execution_count": 19,
   "metadata": {
    "id": "uWoHW4mWbVHu"
   },
   "outputs": [],
   "source": [
    "#Build title to ID and ID to title mappings\n",
    "id_map = pd.read_csv('movie_IDs.csv')\n",
    "id_to_title = id_map.set_index('tmdbId')\n",
    "title_to_id = id_map.set_index('title')"
   ]
  },
  {
   "cell_type": "code",
   "execution_count": 33,
   "metadata": {
    "id": "NmuRt8zQbeP0"
   },
   "outputs": [],
   "source": [
    "#Import or compute relevant metadata of the movies\n",
    "smd = pd.read_csv('movie_IDs.csv')"
   ]
  },
  {
   "cell_type": "code",
   "execution_count": 36,
   "metadata": {
    "id": "eFBJr9ymb4ua"
   },
   "outputs": [],
   "source": [
    "def hybrid(userId, title):\n",
    "    #Extract the cosine_sim index of the movie\n",
    "    idx = cosine_sim_map[title]\n",
    "    \n",
    "    #Extract the TMDB ID of the movie\n",
    "    tmdbId = title_to_id.loc[title]['tmdbId']\n",
    "    \n",
    "    #Extract the movie ID internally assigned by the dataset\n",
    "    movie_id = title_to_id.loc[title]['movieId']\n",
    "    \n",
    "    #Extract the similarity scores and their corresponding index for every movie from the cosine_sim matrix\n",
    "    sim_scores = list(enumerate(cosine_sim[str(int(idx))]))\n",
    "    \n",
    "    #Sort the (index, score) tuples in decreasing order of similarity scores\n",
    "    sim_scores = sorted(sim_scores, key=lambda x: x[1], reverse=True)\n",
    "    \n",
    "    #Select the top 25 tuples, excluding the first \n",
    "    #(as it is the similarity score of the movie with itself)\n",
    "    sim_scores = sim_scores[1:26]\n",
    "    \n",
    "    #Store the cosine_sim indices of the top 25 movies in a list\n",
    "    movie_indices = [i[0] for i in sim_scores]\n",
    "\n",
    "    #Extract the metadata of the aforementioned movies\n",
    "    movies = smd.iloc[movie_indices][['title', 'tmdbId']]\n",
    "    \n",
    "    #Compute the predicted ratings using the SVD filter\n",
    "    movies['est'] = movies['tmdbId'].apply(lambda x: svd.predict(userId, id_to_title.loc[x]['movieId']).est)\n",
    "    \n",
    "    #Sort the movies in decreasing order of predicted rating\n",
    "    movies = movies.sort_values('est', ascending=False)\n",
    "    \n",
    "    #Return the top 10 movies as recommendations\n",
    "    return movies.head(10)"
   ]
  },
  {
   "cell_type": "code",
   "execution_count": 37,
   "metadata": {
    "colab": {
     "base_uri": "https://localhost:8080/",
     "height": 359
    },
    "id": "KsNDB5R_b9k_",
    "outputId": "32a04be2-7a38-408e-a21e-dbb1576dea2c"
   },
   "outputs": [
    {
     "data": {
      "text/html": [
       "<div>\n",
       "<style scoped>\n",
       "    .dataframe tbody tr th:only-of-type {\n",
       "        vertical-align: middle;\n",
       "    }\n",
       "\n",
       "    .dataframe tbody tr th {\n",
       "        vertical-align: top;\n",
       "    }\n",
       "\n",
       "    .dataframe thead th {\n",
       "        text-align: right;\n",
       "    }\n",
       "</style>\n",
       "<table border=\"1\" class=\"dataframe\">\n",
       "  <thead>\n",
       "    <tr style=\"text-align: right;\">\n",
       "      <th></th>\n",
       "      <th>title</th>\n",
       "      <th>tmdbId</th>\n",
       "      <th>est</th>\n",
       "    </tr>\n",
       "  </thead>\n",
       "  <tbody>\n",
       "    <tr>\n",
       "      <th>308</th>\n",
       "      <td>Philadelphia Story, The</td>\n",
       "      <td>981.0</td>\n",
       "      <td>3.532382</td>\n",
       "    </tr>\n",
       "    <tr>\n",
       "      <th>500</th>\n",
       "      <td>Back to the Future</td>\n",
       "      <td>105.0</td>\n",
       "      <td>3.356445</td>\n",
       "    </tr>\n",
       "    <tr>\n",
       "      <th>498</th>\n",
       "      <td>Manchurian Candidate, The</td>\n",
       "      <td>982.0</td>\n",
       "      <td>3.292138</td>\n",
       "    </tr>\n",
       "    <tr>\n",
       "      <th>506</th>\n",
       "      <td>Young Frankenstein</td>\n",
       "      <td>3034.0</td>\n",
       "      <td>3.264645</td>\n",
       "    </tr>\n",
       "    <tr>\n",
       "      <th>1444</th>\n",
       "      <td>Almost Famous</td>\n",
       "      <td>786.0</td>\n",
       "      <td>3.234100</td>\n",
       "    </tr>\n",
       "    <tr>\n",
       "      <th>152</th>\n",
       "      <td>Forrest Gump</td>\n",
       "      <td>13.0</td>\n",
       "      <td>3.207393</td>\n",
       "    </tr>\n",
       "    <tr>\n",
       "      <th>511</th>\n",
       "      <td>Big Sleep, The</td>\n",
       "      <td>910.0</td>\n",
       "      <td>3.155837</td>\n",
       "    </tr>\n",
       "    <tr>\n",
       "      <th>544</th>\n",
       "      <td>Paradise Lost: The Child Murders at Robin Hood...</td>\n",
       "      <td>17204.0</td>\n",
       "      <td>3.117274</td>\n",
       "    </tr>\n",
       "    <tr>\n",
       "      <th>499</th>\n",
       "      <td>Arsenic and Old Lace</td>\n",
       "      <td>212.0</td>\n",
       "      <td>3.096001</td>\n",
       "    </tr>\n",
       "    <tr>\n",
       "      <th>1281</th>\n",
       "      <td>The Muppet Movie</td>\n",
       "      <td>11176.0</td>\n",
       "      <td>3.078219</td>\n",
       "    </tr>\n",
       "  </tbody>\n",
       "</table>\n",
       "</div>"
      ],
      "text/plain": [
       "                                                  title   tmdbId       est\n",
       "308                            Philadelphia Story, The     981.0  3.532382\n",
       "500                                 Back to the Future     105.0  3.356445\n",
       "498                          Manchurian Candidate, The     982.0  3.292138\n",
       "506                                 Young Frankenstein    3034.0  3.264645\n",
       "1444                                     Almost Famous     786.0  3.234100\n",
       "152                                       Forrest Gump      13.0  3.207393\n",
       "511                                     Big Sleep, The     910.0  3.155837\n",
       "544   Paradise Lost: The Child Murders at Robin Hood...  17204.0  3.117274\n",
       "499                               Arsenic and Old Lace     212.0  3.096001\n",
       "1281                                   The Muppet Movie  11176.0  3.078219"
      ]
     },
     "execution_count": 37,
     "metadata": {},
     "output_type": "execute_result"
    }
   ],
   "source": [
    "hybrid(1, 'Toy Story ')"
   ]
  },
  {
   "cell_type": "code",
   "execution_count": 38,
   "metadata": {
    "colab": {
     "base_uri": "https://localhost:8080/",
     "height": 359
    },
    "id": "TEgHZMxddw5j",
    "outputId": "42313582-ef4d-430f-a706-7f9c81a9cf4d",
    "scrolled": true
   },
   "outputs": [
    {
     "data": {
      "text/html": [
       "<div>\n",
       "<style scoped>\n",
       "    .dataframe tbody tr th:only-of-type {\n",
       "        vertical-align: middle;\n",
       "    }\n",
       "\n",
       "    .dataframe tbody tr th {\n",
       "        vertical-align: top;\n",
       "    }\n",
       "\n",
       "    .dataframe thead th {\n",
       "        text-align: right;\n",
       "    }\n",
       "</style>\n",
       "<table border=\"1\" class=\"dataframe\">\n",
       "  <thead>\n",
       "    <tr style=\"text-align: right;\">\n",
       "      <th></th>\n",
       "      <th>title</th>\n",
       "      <th>tmdbId</th>\n",
       "      <th>est</th>\n",
       "    </tr>\n",
       "  </thead>\n",
       "  <tbody>\n",
       "    <tr>\n",
       "      <th>506</th>\n",
       "      <td>Young Frankenstein</td>\n",
       "      <td>3034.0</td>\n",
       "      <td>4.238646</td>\n",
       "    </tr>\n",
       "    <tr>\n",
       "      <th>544</th>\n",
       "      <td>Paradise Lost: The Child Murders at Robin Hood...</td>\n",
       "      <td>17204.0</td>\n",
       "      <td>3.998004</td>\n",
       "    </tr>\n",
       "    <tr>\n",
       "      <th>1444</th>\n",
       "      <td>Almost Famous</td>\n",
       "      <td>786.0</td>\n",
       "      <td>3.963829</td>\n",
       "    </tr>\n",
       "    <tr>\n",
       "      <th>499</th>\n",
       "      <td>Arsenic and Old Lace</td>\n",
       "      <td>212.0</td>\n",
       "      <td>3.913971</td>\n",
       "    </tr>\n",
       "    <tr>\n",
       "      <th>512</th>\n",
       "      <td>Heathers</td>\n",
       "      <td>2640.0</td>\n",
       "      <td>3.865157</td>\n",
       "    </tr>\n",
       "    <tr>\n",
       "      <th>489</th>\n",
       "      <td>Better Off Dead...</td>\n",
       "      <td>13667.0</td>\n",
       "      <td>3.805161</td>\n",
       "    </tr>\n",
       "    <tr>\n",
       "      <th>308</th>\n",
       "      <td>Philadelphia Story, The</td>\n",
       "      <td>981.0</td>\n",
       "      <td>3.801521</td>\n",
       "    </tr>\n",
       "    <tr>\n",
       "      <th>511</th>\n",
       "      <td>Big Sleep, The</td>\n",
       "      <td>910.0</td>\n",
       "      <td>3.780537</td>\n",
       "    </tr>\n",
       "    <tr>\n",
       "      <th>1274</th>\n",
       "      <td>The Ninth Gate</td>\n",
       "      <td>622.0</td>\n",
       "      <td>3.780030</td>\n",
       "    </tr>\n",
       "    <tr>\n",
       "      <th>500</th>\n",
       "      <td>Back to the Future</td>\n",
       "      <td>105.0</td>\n",
       "      <td>3.669239</td>\n",
       "    </tr>\n",
       "  </tbody>\n",
       "</table>\n",
       "</div>"
      ],
      "text/plain": [
       "                                                  title   tmdbId       est\n",
       "506                                 Young Frankenstein    3034.0  4.238646\n",
       "544   Paradise Lost: The Child Murders at Robin Hood...  17204.0  3.998004\n",
       "1444                                     Almost Famous     786.0  3.963829\n",
       "499                               Arsenic and Old Lace     212.0  3.913971\n",
       "512                                           Heathers    2640.0  3.865157\n",
       "489                                 Better Off Dead...   13667.0  3.805161\n",
       "308                            Philadelphia Story, The     981.0  3.801521\n",
       "511                                     Big Sleep, The     910.0  3.780537\n",
       "1274                                     The Ninth Gate    622.0  3.780030\n",
       "500                                 Back to the Future     105.0  3.669239"
      ]
     },
     "execution_count": 38,
     "metadata": {},
     "output_type": "execute_result"
    }
   ],
   "source": [
    "hybrid(2, 'Toy Story ')"
   ]
  },
  {
   "cell_type": "code",
   "execution_count": null,
   "metadata": {},
   "outputs": [],
   "source": []
  }
 ],
 "metadata": {
  "accelerator": "GPU",
  "colab": {
   "collapsed_sections": [],
   "machine_shape": "hm",
   "name": "DATA 690 Hybrid Recommender",
   "provenance": []
  },
  "kernelspec": {
   "display_name": "Python 3",
   "language": "python",
   "name": "python3"
  },
  "language_info": {
   "codemirror_mode": {
    "name": "ipython",
    "version": 3
   },
   "file_extension": ".py",
   "mimetype": "text/x-python",
   "name": "python",
   "nbconvert_exporter": "python",
   "pygments_lexer": "ipython3",
   "version": "3.8.3"
  }
 },
 "nbformat": 4,
 "nbformat_minor": 1
}
