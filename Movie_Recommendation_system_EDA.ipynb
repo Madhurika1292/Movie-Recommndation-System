{
  "nbformat": 4,
  "nbformat_minor": 0,
  "metadata": {
    "colab": {
      "name": "Movie Recommendation system EDA.ipynb",
      "provenance": []
    },
    "kernelspec": {
      "name": "python3",
      "display_name": "Python 3"
    }
  },
  "cells": [
    {
      "cell_type": "markdown",
      "metadata": {
        "id": "R9InZ5eLVKc2"
      },
      "source": [
        "# MovieLens Data Exploratory Analysis"
      ]
    },
    {
      "cell_type": "markdown",
      "metadata": {
        "id": "b4hpu_QzVQrE"
      },
      "source": [
        "MovieLens dataset - a classic dataset for training recommendation models. It can be obtained from the GroupLens website. There are various datasets, but the one that I will use below consists of 100,000 movie ratings by users (on a 1-5 scale). \n",
        "\n",
        "\n",
        "The main data file consists of a tab-separated list with user-id (starting at 1), item-id (starting at 1), rating, and timestamp as the four fields."
      ]
    },
    {
      "cell_type": "markdown",
      "metadata": {
        "id": "zr6dfcDrVV3z"
      },
      "source": [
        "#### Loading Libraries"
      ]
    },
    {
      "cell_type": "code",
      "metadata": {
        "id": "MuG66sXeVDpR"
      },
      "source": [
        "import pandas as pd\n",
        "import numpy as np\n",
        "import matplotlib.pyplot as plt\n",
        "%matplotlib inline \n",
        "import seaborn as sns\n",
        "import random\n",
        "import seaborn as sns\n",
        "from datetime import datetime\n",
        "import warnings\n",
        "warnings.filterwarnings('ignore')"
      ],
      "execution_count": 10,
      "outputs": []
    },
    {
      "cell_type": "markdown",
      "metadata": {
        "id": "HlYApK5JVorC"
      },
      "source": [
        "#### Loading data"
      ]
    },
    {
      "cell_type": "code",
      "metadata": {
        "colab": {
          "base_uri": "https://localhost:8080/"
        },
        "id": "juY6ykP-Vgm8",
        "outputId": "ec5b4dc0-4ab1-40b7-dcb3-eba1e0b87db3"
      },
      "source": [
        "from google.colab import drive\n",
        "drive.mount('/content/gdrive/')"
      ],
      "execution_count": 2,
      "outputs": [
        {
          "output_type": "stream",
          "text": [
            "Drive already mounted at /content/gdrive/; to attempt to forcibly remount, call drive.mount(\"/content/gdrive/\", force_remount=True).\n"
          ],
          "name": "stdout"
        }
      ]
    },
    {
      "cell_type": "code",
      "metadata": {
        "id": "YG3y-HI8VrAt"
      },
      "source": [
        "#Loading ratings data\n",
        "movies_data=pd.read_csv('gdrive/My Drive/Recommendation system project/small_dataset/movies.csv')\n",
        "rating_data = pd.read_csv(\"gdrive/My Drive/Recommendation system project/small_dataset/ratings.csv\")"
      ],
      "execution_count": 17,
      "outputs": []
    },
    {
      "cell_type": "code",
      "metadata": {
        "colab": {
          "base_uri": "https://localhost:8080/",
          "height": 402
        },
        "id": "74a4JFF6WSNA",
        "outputId": "c8ce9606-b1bc-4ac1-d756-89dde0283c0c"
      },
      "source": [
        "rating_data"
      ],
      "execution_count": 4,
      "outputs": [
        {
          "output_type": "execute_result",
          "data": {
            "text/html": [
              "<div>\n",
              "<style scoped>\n",
              "    .dataframe tbody tr th:only-of-type {\n",
              "        vertical-align: middle;\n",
              "    }\n",
              "\n",
              "    .dataframe tbody tr th {\n",
              "        vertical-align: top;\n",
              "    }\n",
              "\n",
              "    .dataframe thead th {\n",
              "        text-align: right;\n",
              "    }\n",
              "</style>\n",
              "<table border=\"1\" class=\"dataframe\">\n",
              "  <thead>\n",
              "    <tr style=\"text-align: right;\">\n",
              "      <th></th>\n",
              "      <th>userId</th>\n",
              "      <th>movieId</th>\n",
              "      <th>rating</th>\n",
              "      <th>timestamp</th>\n",
              "    </tr>\n",
              "  </thead>\n",
              "  <tbody>\n",
              "    <tr>\n",
              "      <th>0</th>\n",
              "      <td>1</td>\n",
              "      <td>1</td>\n",
              "      <td>4.0</td>\n",
              "      <td>964982703</td>\n",
              "    </tr>\n",
              "    <tr>\n",
              "      <th>1</th>\n",
              "      <td>1</td>\n",
              "      <td>3</td>\n",
              "      <td>4.0</td>\n",
              "      <td>964981247</td>\n",
              "    </tr>\n",
              "    <tr>\n",
              "      <th>2</th>\n",
              "      <td>1</td>\n",
              "      <td>6</td>\n",
              "      <td>4.0</td>\n",
              "      <td>964982224</td>\n",
              "    </tr>\n",
              "    <tr>\n",
              "      <th>3</th>\n",
              "      <td>1</td>\n",
              "      <td>47</td>\n",
              "      <td>5.0</td>\n",
              "      <td>964983815</td>\n",
              "    </tr>\n",
              "    <tr>\n",
              "      <th>4</th>\n",
              "      <td>1</td>\n",
              "      <td>50</td>\n",
              "      <td>5.0</td>\n",
              "      <td>964982931</td>\n",
              "    </tr>\n",
              "    <tr>\n",
              "      <th>...</th>\n",
              "      <td>...</td>\n",
              "      <td>...</td>\n",
              "      <td>...</td>\n",
              "      <td>...</td>\n",
              "    </tr>\n",
              "    <tr>\n",
              "      <th>100831</th>\n",
              "      <td>610</td>\n",
              "      <td>166534</td>\n",
              "      <td>4.0</td>\n",
              "      <td>1493848402</td>\n",
              "    </tr>\n",
              "    <tr>\n",
              "      <th>100832</th>\n",
              "      <td>610</td>\n",
              "      <td>168248</td>\n",
              "      <td>5.0</td>\n",
              "      <td>1493850091</td>\n",
              "    </tr>\n",
              "    <tr>\n",
              "      <th>100833</th>\n",
              "      <td>610</td>\n",
              "      <td>168250</td>\n",
              "      <td>5.0</td>\n",
              "      <td>1494273047</td>\n",
              "    </tr>\n",
              "    <tr>\n",
              "      <th>100834</th>\n",
              "      <td>610</td>\n",
              "      <td>168252</td>\n",
              "      <td>5.0</td>\n",
              "      <td>1493846352</td>\n",
              "    </tr>\n",
              "    <tr>\n",
              "      <th>100835</th>\n",
              "      <td>610</td>\n",
              "      <td>170875</td>\n",
              "      <td>3.0</td>\n",
              "      <td>1493846415</td>\n",
              "    </tr>\n",
              "  </tbody>\n",
              "</table>\n",
              "<p>100836 rows × 4 columns</p>\n",
              "</div>"
            ],
            "text/plain": [
              "        userId  movieId  rating   timestamp\n",
              "0            1        1     4.0   964982703\n",
              "1            1        3     4.0   964981247\n",
              "2            1        6     4.0   964982224\n",
              "3            1       47     5.0   964983815\n",
              "4            1       50     5.0   964982931\n",
              "...        ...      ...     ...         ...\n",
              "100831     610   166534     4.0  1493848402\n",
              "100832     610   168248     5.0  1493850091\n",
              "100833     610   168250     5.0  1494273047\n",
              "100834     610   168252     5.0  1493846352\n",
              "100835     610   170875     3.0  1493846415\n",
              "\n",
              "[100836 rows x 4 columns]"
            ]
          },
          "metadata": {
            "tags": []
          },
          "execution_count": 4
        }
      ]
    },
    {
      "cell_type": "code",
      "metadata": {
        "colab": {
          "base_uri": "https://localhost:8080/"
        },
        "id": "92pOKTGPV6nK",
        "outputId": "81db9383-8b78-48dd-8559-c20a2da76063"
      },
      "source": [
        "n_users = len(rating_data['userId'].unique())\n",
        "n_items = len(rating_data['movieId'].unique())\n",
        "R_shape = (n_users, n_items)\n",
        "print(str(n_users) + ' users')\n",
        "print(str(n_items) + ' items')"
      ],
      "execution_count": 5,
      "outputs": [
        {
          "output_type": "stream",
          "text": [
            "610 users\n",
            "9724 items\n"
          ],
          "name": "stdout"
        }
      ]
    },
    {
      "cell_type": "markdown",
      "metadata": {
        "id": "OoDhgXR0Wa7X"
      },
      "source": [
        "#### Visualizing ratings distribution"
      ]
    },
    {
      "cell_type": "code",
      "metadata": {
        "colab": {
          "base_uri": "https://localhost:8080/",
          "height": 312
        },
        "id": "EyuGGaaLWFqX",
        "outputId": "8219bcf1-dccf-4095-d58e-d5fcdd034f95"
      },
      "source": [
        "rating_data['rating'].hist(grid=True)\n",
        "plt.xlabel('Rating')\n",
        "plt.ylabel('Frequency')\n",
        "plt.title('Distribution of ratings')"
      ],
      "execution_count": 6,
      "outputs": [
        {
          "output_type": "execute_result",
          "data": {
            "text/plain": [
              "Text(0.5, 1.0, 'Distribution of ratings')"
            ]
          },
          "metadata": {
            "tags": []
          },
          "execution_count": 6
        },
        {
          "output_type": "display_data",
          "data": {
            "image/png": "[encoded data removed]",
            "text/plain": [
              "<Figure size 432x288 with 1 Axes>"
            ]
          },
          "metadata": {
            "tags": [],
            "needs_background": "light"
          }
        }
      ]
    },
    {
      "cell_type": "markdown",
      "metadata": {
        "id": "50qYWrIYWnNR"
      },
      "source": [
        "#### Visualizing ratings after normalization¶"
      ]
    },
    {
      "cell_type": "code",
      "metadata": {
        "colab": {
          "base_uri": "https://localhost:8080/",
          "height": 312
        },
        "id": "G7sv2B5OWj2I",
        "outputId": "635fc60c-7c04-42d7-ecfa-09627a2bd884"
      },
      "source": [
        "from sklearn.preprocessing import scale\n",
        "binwidth = 0.8\n",
        "data = scale(rating_data['rating'].astype(float))\n",
        "plt.hist(data, bins=np.arange(min(data), max(data) + binwidth, binwidth))    # Z-score normalization\n",
        "plt.xlabel('Normalized rating')\n",
        "plt.ylabel('Frequency')\n",
        "plt.title('Distribution of normalized ratings')"
      ],
      "execution_count": 7,
      "outputs": [
        {
          "output_type": "execute_result",
          "data": {
            "text/plain": [
              "Text(0.5, 1.0, 'Distribution of normalized ratings')"
            ]
          },
          "metadata": {
            "tags": []
          },
          "execution_count": 7
        },
        {
          "output_type": "display_data",
          "data": {
            "image/png": "[encoded data removed]",
            "text/plain": [
              "<Figure size 432x288 with 1 Axes>"
            ]
          },
          "metadata": {
            "tags": [],
            "needs_background": "light"
          }
        }
      ]
    },
    {
      "cell_type": "markdown",
      "metadata": {
        "id": "ZZIaT5dJWsqh"
      },
      "source": [
        "#### Number of ratings for each year\n",
        "\n"
      ]
    },
    {
      "cell_type": "markdown",
      "metadata": {
        "id": "hR1S1m1lY0X-"
      },
      "source": [
        "We can convert it to timestamp type and extract year and month and sort the records by timestamp."
      ]
    },
    {
      "cell_type": "code",
      "metadata": {
        "id": "SUfvFmwLYxU9"
      },
      "source": [
        "rating_data['timestamp'] = rating_data['timestamp'].apply(datetime.fromtimestamp)\n",
        "rating_data['year'] = rating_data['timestamp'].dt.year\n",
        "rating_data['month'] = rating_data['timestamp'].dt.month\n",
        "rating_data['date'] = rating_data['timestamp'].dt.date\n",
        "rating_data = rating_data.sort_values('timestamp').reset_index(drop=True)"
      ],
      "execution_count": 11,
      "outputs": []
    },
    {
      "cell_type": "code",
      "metadata": {
        "colab": {
          "base_uri": "https://localhost:8080/",
          "height": 365
        },
        "id": "VHg1pE_oWxUp",
        "outputId": "6fbf0ba6-c5a3-426f-9304-bbce4b9166ab"
      },
      "source": [
        "rating_data[['year', 'rating']].groupby(['year']).count().reset_index().plot.bar(x='year', y='rating', title='Number of ratings per year', figsize=(10, 5));"
      ],
      "execution_count": 12,
      "outputs": [
        {
          "output_type": "display_data",
          "data": {
            "image/png": "[encoded data removed]",
            "text/plain": [
              "<Figure size 720x360 with 1 Axes>"
            ]
          },
          "metadata": {
            "tags": [],
            "needs_background": "light"
          }
        }
      ]
    },
    {
      "cell_type": "markdown",
      "metadata": {
        "id": "kZpKGn3VZGNL"
      },
      "source": [
        "We can see that the majority of ratings for the year 2000 are available (approximately 900k, which is equivalent to around 90 percent of the data points). Look now at the cumulative monthly ranking distribution."
      ]
    },
    {
      "cell_type": "code",
      "metadata": {
        "colab": {
          "base_uri": "https://localhost:8080/",
          "height": 352
        },
        "id": "LC4fLg6OYrIi",
        "outputId": "895d350d-1f49-41c1-a58c-fce11195776b"
      },
      "source": [
        "temp_df = rating_data[['month', 'rating']].groupby(['month']).count().reset_index()\n",
        "temp_df['rating'] = temp_df['rating'] / 4\n",
        "temp_df.plot.bar(x='month', y='rating', title='Average number of ratings per month', figsize=(10, 5));"
      ],
      "execution_count": 14,
      "outputs": [
        {
          "output_type": "display_data",
          "data": {
            "image/png": "[encoded data removed]",
            "text/plain": [
              "<Figure size 720x360 with 1 Axes>"
            ]
          },
          "metadata": {
            "tags": [],
            "needs_background": "light"
          }
        }
      ]
    },
    {
      "cell_type": "markdown",
      "metadata": {
        "id": "sQj-1aISZooE"
      },
      "source": [
        "It is observed that 5th month of the year(May) is having highest average number of the ratings."
      ]
    },
    {
      "cell_type": "markdown",
      "metadata": {
        "id": "ShIeQEk2cVci"
      },
      "source": [
        "#### visualizing average rating with respect to genres"
      ]
    },
    {
      "cell_type": "code",
      "metadata": {
        "id": "mp-AcoCvZb7W"
      },
      "source": [
        "# Loop to find avg rating on the basis of each genre.\n",
        "genres_lis=['Romance', 'Fantasy', 'Animation', 'Action', 'Film-Noir', 'Adventure', 'Horror', 'IMAX', 'Musical', 'War', 'Drama', 'Comedy', 'Crime', 'Mystery', '(no genres listed)', 'Documentary', 'Western', 'Thriller', 'Children', 'Sci-Fi']\n",
        "df=pd.merge(movies_data, rating_data, on='movieId', how='left' )\n",
        "avg_rating=[]\n",
        "for genre in genres_lis:\n",
        "    avg_rating.append(df[df['genres'].str.contains(genre)]['rating'].mean())\n",
        "# avg_rating"
      ],
      "execution_count": 23,
      "outputs": []
    },
    {
      "cell_type": "code",
      "metadata": {
        "colab": {
          "base_uri": "https://localhost:8080/",
          "height": 447
        },
        "id": "srjQQ3aHbW0Z",
        "outputId": "676a3835-bc5a-47ec-e766-86bf36dfd051"
      },
      "source": [
        "plt.figure(figsize=(8,5))\n",
        "sns.barplot(genres_lis, avg_rating,palette='Set1')\n",
        "plt.xticks(rotation='vertical')\n",
        "plt.ylabel('Avg. Rating')\n",
        "plt.xlabel('Genres')\n",
        "plt.title('Avg. Rating W.R.T Genres', fontsize=16)"
      ],
      "execution_count": 24,
      "outputs": [
        {
          "output_type": "execute_result",
          "data": {
            "text/plain": [
              "Text(0.5, 1.0, 'Avg. Rating W.R.T Genres')"
            ]
          },
          "metadata": {
            "tags": []
          },
          "execution_count": 24
        },
        {
          "output_type": "display_data",
          "data": {
            "image/png": "[encoded data removed]",
            "text/plain": [
              "<Figure size 576x360 with 1 Axes>"
            ]
          },
          "metadata": {
            "tags": [],
            "needs_background": "light"
          }
        }
      ]
    },
    {
      "cell_type": "markdown",
      "metadata": {
        "id": "ENyA2TLpdfuK"
      },
      "source": [
        "#### References\n",
        "\n",
        "\n",
        "1. https://github.com/nicolasfguillaume/Recommender-Systems-Making-Movies-Recommendation/blob/master/MovieLens%20(NMF)%20v1.ipynb\n",
        "\n",
        "2. https://github.com/HarilalOP/movielens-data-exploration/blob/master/src/main/code/exploratory_analysis.ipynb\n"
      ]
    },
    {
      "cell_type": "code",
      "metadata": {
        "id": "wJ6Ot1rrdnTZ"
      },
      "source": [
        ""
      ],
      "execution_count": null,
      "outputs": []
    }
  ]
}